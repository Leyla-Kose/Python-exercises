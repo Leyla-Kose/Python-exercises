{
  "nbformat": 4,
  "nbformat_minor": 0,
  "metadata": {
    "colab": {
      "name": "PythonAddicts.ipynb",
      "provenance": [],
      "authorship_tag": "ABX9TyMELpebCSygkGD+ByiePi7s",
      "include_colab_link": true
    },
    "kernelspec": {
      "name": "python3",
      "display_name": "Python 3"
    },
    "language_info": {
      "name": "python"
    }
  },
  "cells": [
    {
      "cell_type": "markdown",
      "metadata": {
        "id": "view-in-github",
        "colab_type": "text"
      },
      "source": [
        "<a href=\"https://colab.research.google.com/github/leyla-kose/Python-exercises/blob/main/PythonAddicts.ipynb\" target=\"_parent\"><img src=\"https://colab.research.google.com/assets/colab-badge.svg\" alt=\"Open In Colab\"/></a>"
      ]
    },
    {
      "cell_type": "code",
      "metadata": {
        "id": "O1SFINGNWbMu"
      },
      "source": [
        "#exercise-33\n",
        "\n",
        "text = 'qA2'\n",
        "print(any(i.isalnum() for i in text))\n",
        "print(any(i.isalpha() for i in text))\n",
        "print(any(i.isdigit() for i in text))\n",
        "print(any(i.islower() for i in text))\n",
        "print(any(i.isupper() for i in text))"
      ],
      "execution_count": null,
      "outputs": []
    },
    {
      "cell_type": "code",
      "metadata": {
        "id": "GYUU8vSDYtjY"
      },
      "source": [
        "#35\n",
        "\n",
        "list1 = [1, 3, 6, 7, 8, 10]\n",
        "list2 = [2, 5, 8, 7, 9, 10]\n",
        "\n",
        "diff1 = set(list1).difference(set(list2))\n",
        "diff2 = set(list2).difference(set(list1))\n",
        "\n",
        "\n",
        "print(diff1|diff2)\n"
      ],
      "execution_count": null,
      "outputs": []
    },
    {
      "cell_type": "code",
      "metadata": {
        "id": "JH9fP7bqrN2Z"
      },
      "source": [
        ""
      ],
      "execution_count": null,
      "outputs": []
    },
    {
      "cell_type": "code",
      "metadata": {
        "id": "oMlIvoCqcv1c"
      },
      "source": [
        "#36\n",
        "\n",
        "num = input('Enter a number: ')\n",
        "sum_digits = 0\n",
        "\n",
        "for i in num:\n",
        "  sum_digits += int(i)\n",
        "\n",
        "print(int(num)%sum_digits == 0)\n"
      ],
      "execution_count": null,
      "outputs": []
    },
    {
      "cell_type": "code",
      "metadata": {
        "id": "bjTgAyj4eqV9"
      },
      "source": [
        "ok#37\n",
        "\n",
        "num = int(input('Enter a number: '))\n",
        "divisors = []\n",
        "\n",
        "for i in range(1,num):\n",
        "  if num%i==0:\n",
        "    divisors.append(i)\n",
        "if sum(divisors) == num:\n",
        "  print(f'{num} is a perfect number!')\n",
        "else:\n",
        "  print(f'{num} is not a perfect number.')"
      ],
      "execution_count": null,
      "outputs": []
    },
    {
      "cell_type": "code",
      "metadata": {
        "id": "5PTYRp70fsuA"
      },
      "source": [
        "#38\n",
        "\n",
        "list1=[195, 488, 142, 626, 180]\n",
        "list2=[\"New York\", \"Alabama\", \"Hawaii\", \"Vermont\", \"West Virginia\"]\n",
        "\n",
        "merged_list = list(zip(list1, list2))\n",
        "print(merged_list)"
      ],
      "execution_count": null,
      "outputs": []
    },
    {
      "cell_type": "code",
      "metadata": {
        "id": "4yjCzfpwKVDM"
      },
      "source": [
        ""
      ],
      "execution_count": null,
      "outputs": []
    },
    {
      "cell_type": "code",
      "metadata": {
        "colab": {
          "base_uri": "https://localhost:8080/"
        },
        "id": "60zCKTVpKVK1",
        "outputId": "d3a0e7bd-aaf7-4813-d618-e632f5ab2b6a"
      },
      "source": [
        "#40\n",
        "\n",
        "x = [1, 2, 3] \n",
        "\n",
        "a = [7, 3] \n",
        "b =[7, 3, 2] \n",
        "c = [1, 3] \n",
        "\n",
        "print(x[1] == a[1] or x[-1] == a[-1])\n",
        "print(x[1] == b[1] or x[-1] == b[-1])\n",
        "print(x[1] == c[1] or x[-1] == c[-1])"
      ],
      "execution_count": null,
      "outputs": [
        {
          "output_type": "stream",
          "name": "stdout",
          "text": [
            "True\n",
            "False\n",
            "True\n"
          ]
        }
      ]
    },
    {
      "cell_type": "code",
      "metadata": {
        "id": "b41t0zscjKC5"
      },
      "source": [
        ""
      ],
      "execution_count": null,
      "outputs": []
    },
    {
      "cell_type": "code",
      "metadata": {
        "colab": {
          "base_uri": "https://localhost:8080/",
          "height": 54
        },
        "id": "aJFKHRzjXWHv",
        "outputId": "9900cd69-d742-456f-bfd7-3f42dd73107a"
      },
      "source": [
        "num = int(input('Enter number of petals: '))\n",
        "love = 'Loves me'\n",
        "nolove = 'Loves me not'\n",
        "\n",
        "List = []\n",
        "i = 0\n",
        "while i < num:\n",
        "  if i%2==0:\n",
        "    List.append(love)\n",
        "  else:\n",
        "    List.append(nolove)\n",
        "  i+=1\n",
        "List[-1] = List[-1].upper()\n",
        "result = ', '.join(List)\n",
        "\n",
        "result"
      ],
      "execution_count": null,
      "outputs": [
        {
          "name": "stdout",
          "output_type": "stream",
          "text": [
            "Enter number of petals: 5\n"
          ]
        },
        {
          "output_type": "execute_result",
          "data": {
            "application/vnd.google.colaboratory.intrinsic+json": {
              "type": "string"
            },
            "text/plain": [
              "'Loves me, Loves me not, Loves me, Loves me not, LOVES ME'"
            ]
          },
          "metadata": {},
          "execution_count": 35
        }
      ]
    },
    {
      "cell_type": "code",
      "metadata": {
        "id": "JKvedHQ0jK3W"
      },
      "source": [
        "strs = [\"eat\", \"tea\", \"tan\", \"ate\", \"nat\", \"bat\", \"cat\", \"tac\"]\n",
        "group = {}\n",
        "for i in strs :\n",
        "  kelime = \"\".join(sorted(i))\n",
        "  if kelime in group :\n",
        "    group[kelime].append(i)\n",
        "  else :\n",
        "    group[kelime] = [i]\n",
        "\n",
        "print(list(group.values()))\n",
        "     \n"
      ],
      "execution_count": null,
      "outputs": []
    },
    {
      "cell_type": "code",
      "metadata": {
        "id": "y7rjF3o1_DQi"
      },
      "source": [
        ""
      ],
      "execution_count": null,
      "outputs": []
    },
    {
      "cell_type": "code",
      "metadata": {
        "id": "6OsyYa3BTAb3"
      },
      "source": [
        "x = int(input('Enter the first edge of the triange: '))\n",
        "y = int(input('Enter the second edge of the triange: '))\n",
        "\n",
        "hypotenuse = (x**2 + y**2) ** 0.5\n",
        "\n",
        "print(f'The hypotenuse is {hypotenuse}' )\n"
      ],
      "execution_count": null,
      "outputs": []
    },
    {
      "cell_type": "code",
      "metadata": {
        "id": "K9aVr18aUovk"
      },
      "source": [
        "num = int(input('Enter a number: '))\n",
        "List = [9, 15, 23, 32]\n",
        "List.sort()\n",
        "min = List[0]\n",
        "\n",
        "if num < min:\n",
        "  print(f'Numbers of List are greater than {num}')\n",
        "else:\n",
        "  print(f'Number(s) of List are not greater than {num}')\n"
      ],
      "execution_count": null,
      "outputs": []
    },
    {
      "cell_type": "code",
      "metadata": {
        "id": "5P7b3gVJfH-V"
      },
      "source": [
        "num = int(input('Enter a number: '))\n",
        "\n",
        "factorial = 1\n",
        "for i in range(1,num+1):\n",
        "  factorial *= i\n",
        "print(f'The factorial of {num} is {factorial}')\n"
      ],
      "execution_count": null,
      "outputs": []
    },
    {
      "cell_type": "code",
      "metadata": {
        "id": "JZZ-hrpvgQxX"
      },
      "source": [
        "s1 = 'Ynf'\n",
        "s2 = 'PYnative'\n",
        "\n",
        "set(s1).issubset(s2) or set(s2).issubset(s1) "
      ],
      "execution_count": null,
      "outputs": []
    },
    {
      "cell_type": "code",
      "metadata": {
        "id": "Uo4j9Q1jjFO8"
      },
      "source": [
        "#46\n",
        "\n",
        "a = list(map(int, input('Number of toys and amount of money: ').split()))\n",
        "available_toys = a[0]\n",
        "money = a[1]\n",
        "prices = list(map(int, input('The prices of toys: ').split()))\n",
        "prices.sort()\n",
        "purchased_toys = 0\n",
        "\n",
        "for i in prices:\n",
        "  if money>i:\n",
        "    money -= i\n",
        "    purchased_toys += 1\n",
        "\n",
        "print(f'You can purchase {purchased_toys} toys.')"
      ],
      "execution_count": null,
      "outputs": []
    },
    {
      "cell_type": "code",
      "metadata": {
        "id": "-4KdBshzhtQB"
      },
      "source": [
        ""
      ],
      "execution_count": null,
      "outputs": []
    },
    {
      "cell_type": "code",
      "metadata": {
        "id": "FstsFPODt1a3"
      },
      "source": [
        "numbers = list(range(1,11))\n",
        "numbers.sort(reverse=True)\n",
        "numbers\n"
      ],
      "execution_count": null,
      "outputs": []
    },
    {
      "cell_type": "code",
      "metadata": {
        "colab": {
          "base_uri": "https://localhost:8080/"
        },
        "id": "Z3-VC2yMz4gp",
        "outputId": "3e53180b-49a2-4771-f986-b782aa5d1235"
      },
      "source": [
        "grocer = [\"banana\", [\"orange\", [\"apple\", \"eggplant\", \"melon\", \"spinach\", \"cheese\", \"leek\" ], \"water\"], \"mandarin\"]\n",
        "\n",
        "grocer[1][1][1::2]"
      ],
      "execution_count": null,
      "outputs": [
        {
          "output_type": "execute_result",
          "data": {
            "text/plain": [
              "['eggplant', 'spinach', 'leek']"
            ]
          },
          "metadata": {},
          "execution_count": 2
        }
      ]
    },
    {
      "cell_type": "code",
      "metadata": {
        "colab": {
          "base_uri": "https://localhost:8080/"
        },
        "id": "1OV6heEi_EjC",
        "outputId": "8653cfdb-e949-4785-fd14-68b14153889f"
      },
      "source": [
        "for i in {'n1' : 'one', 'n2' : 'two'} :\n",
        "   print(i)"
      ],
      "execution_count": null,
      "outputs": [
        {
          "output_type": "stream",
          "name": "stdout",
          "text": [
            "n1\n",
            "n2\n"
          ]
        }
      ]
    },
    {
      "cell_type": "code",
      "metadata": {
        "id": "jVQnSDy0Pman"
      },
      "source": [
        "n = int(input('enter a number between 1-10'))\n",
        "\n",
        "for i in range(11):\n",
        "    print('{}x{} = '.format(n, i), n*i)"
      ],
      "execution_count": null,
      "outputs": []
    },
    {
      "cell_type": "code",
      "metadata": {
        "colab": {
          "base_uri": "https://localhost:8080/"
        },
        "id": "IUpRikibQNZ5",
        "outputId": "47fe9824-78c5-4b1a-c02b-362fa8b8d68f"
      },
      "source": [
        "print(range(5))  # it will not print the numbers in sequence\n",
        "\n",
        "print(*range(5))  # '*' separates its elements\n",
        "\n",
        "print(*('separate'))\n",
        "\n",
        "print(*range(10,0,-2))\n",
        "\n"
      ],
      "execution_count": null,
      "outputs": [
        {
          "output_type": "stream",
          "name": "stdout",
          "text": [
            "range(0, 5)\n",
            "0 1 2 3 4\n",
            "s e p a r a t e\n",
            "10 8 6 4 2\n"
          ]
        }
      ]
    },
    {
      "cell_type": "code",
      "metadata": {
        "id": "tT5s0BOsN6jb"
      },
      "source": [
        ""
      ],
      "execution_count": null,
      "outputs": []
    },
    {
      "cell_type": "code",
      "metadata": {
        "colab": {
          "base_uri": "https://localhost:8080/"
        },
        "id": "L74S6WUjeQJz",
        "outputId": "1fa7fba0-a33b-41a2-c880-7d29da9919bf"
      },
      "source": [
        "n = int(input('Enter a number: '))\n",
        "prime_numbers = []\n",
        "\n",
        "for num in (range(2, n+1)):\n",
        "  count = 0\n",
        "  for i in range(2, (num//2+1)):\n",
        "    if num % i == 0:\n",
        "      count+=1\n",
        "      break\n",
        "  if count == 0 and num != 1:\n",
        "    prime_numbers.append(num)\n",
        "\n",
        "print(*prime_numbers)"
      ],
      "execution_count": null,
      "outputs": [
        {
          "output_type": "stream",
          "name": "stdout",
          "text": [
            "Enter a number: 10\n",
            "2 3 5 7\n"
          ]
        }
      ]
    },
    {
      "cell_type": "code",
      "metadata": {
        "id": "MOGH480EeeXT"
      },
      "source": [
        ""
      ],
      "execution_count": null,
      "outputs": []
    },
    {
      "cell_type": "code",
      "metadata": {
        "id": "NW4mtf0igIAT"
      },
      "source": [
        "n = 10\n",
        "for Number in range (2, n + 1):\n",
        "    count = 0\n",
        "    for i in range(2, (Number//2 + 1)):\n",
        "        if(Number % i == 0):\n",
        "            count = count + 1\n",
        "            break\n",
        "\n",
        "    if (count == 0 and Number != 1):\n",
        "        print(\" %d\" %Number, end = '  ')\n"
      ],
      "execution_count": null,
      "outputs": []
    },
    {
      "cell_type": "code",
      "metadata": {
        "colab": {
          "base_uri": "https://localhost:8080/"
        },
        "id": "zPE9WLOsc8Dd",
        "outputId": "7f992186-ff21-41f2-d4cf-c2f65fcf6a7b"
      },
      "source": [
        "start, end, incr = list(map(int, input('Enter start, end and increment values wit a space: ').split()))\n",
        "\n",
        "print(*range(start, end , incr))"
      ],
      "execution_count": null,
      "outputs": [
        {
          "output_type": "stream",
          "name": "stdout",
          "text": [
            "Enter start, end and increment values wit a space: 3 21 3\n",
            "3 6 9 12 15 18\n"
          ]
        }
      ]
    },
    {
      "cell_type": "code",
      "metadata": {
        "id": "LqOhkDcxyUYg"
      },
      "source": [
        ""
      ],
      "execution_count": null,
      "outputs": []
    },
    {
      "cell_type": "code",
      "metadata": {
        "id": "_4u4pjbUN8U6"
      },
      "source": [
        "text = 'Clarusway'\n",
        "num_times = {}\n",
        "for i in set(text):\n",
        "  count = 0\n",
        "  count+=text.count(i)\n",
        "  num_times[i]= count\n",
        "\n",
        "for j in num_times:\n",
        "  print(f\"{j} appears {num_times[j]} times in '{text}'\")\n"
      ],
      "execution_count": null,
      "outputs": []
    },
    {
      "cell_type": "code",
      "metadata": {
        "id": "3x_cFUIyAsO5"
      },
      "source": [
        ""
      ],
      "execution_count": null,
      "outputs": []
    },
    {
      "cell_type": "code",
      "metadata": {
        "colab": {
          "base_uri": "https://localhost:8080/"
        },
        "id": "aKG3pndPilBx",
        "outputId": "4bb1c41b-9676-4f1c-8f5f-a729786ffe9d"
      },
      "source": [
        "import math\n",
        "def isprime(n):\n",
        "  if n>1:\n",
        "    for i in range(2, int(math.sqrt(n))+1):\n",
        "      if n % i == 0:\n",
        "        return False\n",
        "    return True  \n",
        "  else: \n",
        "    return False  \n",
        "\n",
        "\n",
        "result = 0\n",
        "count = 0\n",
        "i = 2\n",
        "while count <= 10000:\n",
        "  if isprime(i):\n",
        "    count+=1\n",
        "    if str(i).startswith('3') and str(i).endswith('7'):\n",
        "      result+=1\n",
        "  i+=1\n",
        "  \n",
        "print(f'{result} of first 10,000 prime numbers start with 3 and end with 7.')"
      ],
      "execution_count": null,
      "outputs": [
        {
          "output_type": "stream",
          "name": "stdout",
          "text": [
            "270 of first 10,000 prime numbers start with 3 and end with 7.\n"
          ]
        }
      ]
    },
    {
      "cell_type": "code",
      "metadata": {
        "colab": {
          "base_uri": "https://localhost:8080/"
        },
        "id": "5JnA1O8NuiZF",
        "outputId": "7e068bb5-f450-47cb-d79f-a791bffbcf20"
      },
      "source": [
        "s = input('Enter a text: ').split()\n",
        "\n",
        "print(f'The last word \"{s[-1]}\" with length {len(s[-1])}.')"
      ],
      "execution_count": null,
      "outputs": [
        {
          "output_type": "stream",
          "name": "stdout",
          "text": [
            "Enter a text: Hello World\n",
            "The last word \"World\" with length 5.\n"
          ]
        }
      ]
    },
    {
      "cell_type": "code",
      "metadata": {
        "id": "XaiunFi9Djfq"
      },
      "source": [
        "flowers = ['Rose', 'Orchid', 'Tulip']\n",
        "count = len(flowers)\n",
        "indeks = 0\n",
        "\n",
        "while count>0 :\n",
        "    print(flowers[indeks])\n",
        "    count -= 1\n",
        "    indeks += 1"
      ],
      "execution_count": null,
      "outputs": []
    },
    {
      "cell_type": "code",
      "metadata": {
        "colab": {
          "base_uri": "https://localhost:8080/"
        },
        "id": "oXy1O-rWFbvU",
        "outputId": "91c84d09-e433-492c-e946-d839c3e4e509"
      },
      "source": [
        "l1 = [2,4,3]\n",
        "l2 = [5,6,4]\n",
        "\n",
        "a = ''\n",
        "for i in l1[::-1]:\n",
        "  a += str(i)\n",
        "\n",
        "b = ''\n",
        "for i in l2[::-1]:\n",
        "  b += str(i)\n",
        "\n",
        "output = []\n",
        "for i in str(int(a)+int(b))[::-1]:\n",
        "  output.append(i)\n",
        "\n",
        "print(output)"
      ],
      "execution_count": null,
      "outputs": [
        {
          "output_type": "stream",
          "name": "stdout",
          "text": [
            "['7', '0', '8']\n"
          ]
        }
      ]
    },
    {
      "cell_type": "code",
      "metadata": {
        "colab": {
          "base_uri": "https://localhost:8080/"
        },
        "id": "Q_GuazlSMEyc",
        "outputId": "15c73f68-c548-4c47-f4a8-d8639f85fa6a"
      },
      "source": [
        "#59\n",
        "\n",
        "n = input('Enter a number: ')\n",
        "\n",
        "result = ''\n",
        "for i in n:\n",
        "  a = int(i)**2\n",
        "  result += str(a)\n",
        "\n",
        "print(result)"
      ],
      "execution_count": null,
      "outputs": [
        {
          "output_type": "stream",
          "name": "stdout",
          "text": [
            "Enter a number: 9119\n",
            "811181\n"
          ]
        }
      ]
    },
    {
      "cell_type": "code",
      "metadata": {
        "id": "3KCXgcpqNSir"
      },
      "source": [
        "a = {'a':1, 'b':2, 'c':3, 'd':4, 'e':5, 'f':6, 'g':7, 'h':8, 'i':9,\n",
        "     'j':10, 'k':11, 'l':12, 'm':13, 'n':14, 'o':15, 'p':16, 'q':17,\n",
        "     'r':18, 's':19, 't':20, 'u':21, 'v':22, 'w':23, 'x':24, 'y':25, 'z':26}\n",
        "\n",
        "text = \"The sunset sets at twelve o' clock.\"\n",
        "\n",
        "result = ''\n",
        "for i in text:\n",
        "  if i.isalpha():\n",
        "    result += str(a[i.lower()])\n",
        "    result += ' '\n",
        "\n",
        "print(result)"
      ],
      "execution_count": null,
      "outputs": []
    },
    {
      "cell_type": "code",
      "metadata": {
        "id": "xouYL89fms9E"
      },
      "source": [
        "username = 'clarusway'\n",
        "password = '2021'\n",
        "\n",
        "input_username = input('Enter username: ')\n",
        "input_password = input('Enter password: ')\n",
        "\n",
        "if username == input_username and password == input_password:\n",
        "  print('Logged in!')\n",
        "else:\n",
        "  if username != input_username:\n",
        "    print('Wrong username!')\n",
        "  elif password != input_password:\n",
        "    print('Wrong password!')\n",
        "  print('Try again!')"
      ],
      "execution_count": null,
      "outputs": []
    },
    {
      "cell_type": "code",
      "metadata": {
        "id": "bYaStULhyBdY"
      },
      "source": [
        ""
      ],
      "execution_count": null,
      "outputs": []
    },
    {
      "cell_type": "code",
      "metadata": {
        "colab": {
          "base_uri": "https://localhost:8080/"
        },
        "id": "qjiRz0DOqNuK",
        "outputId": "80f871e2-d34c-4676-ff91-17c1d7090f72"
      },
      "source": [
        "p = 1000\n",
        "increase = int(0.02 * p) + 50\n",
        "\n",
        "result = 0\n",
        "while p <= 1200:\n",
        "  p += increase\n",
        "  result += 1\n",
        "\n",
        "print(f'The town needs {result} years to see its population greater or equal to 1200 inhabitants.')\n"
      ],
      "execution_count": null,
      "outputs": [
        {
          "output_type": "stream",
          "name": "stdout",
          "text": [
            "The town needs 3 years to see its population greater or equal to 1200 inhabitants\n"
          ]
        }
      ]
    },
    {
      "cell_type": "code",
      "metadata": {
        "colab": {
          "base_uri": "https://localhost:8080/"
        },
        "id": "XaAPxPJ0yCFv",
        "outputId": "378d91ed-5516-49a0-cf00-da27c64473ad"
      },
      "source": [
        "s = input('Enter a text: ')\n",
        "\n",
        "d = {}\n",
        "for i in set(s):\n",
        "  d[i] = s.count(i)\n",
        "\n",
        "if len(set(d.values())) == 1:\n",
        "  print('It is a good string!')\n",
        "else:\n",
        "  print('It is not a good string!')"
      ],
      "execution_count": null,
      "outputs": [
        {
          "output_type": "stream",
          "name": "stdout",
          "text": [
            "Enter a text: abcabc\n",
            "It is a good string!\n"
          ]
        }
      ]
    },
    {
      "cell_type": "code",
      "metadata": {
        "id": "nZtxCFTX6s7k"
      },
      "source": [
        ""
      ],
      "execution_count": null,
      "outputs": []
    },
    {
      "cell_type": "code",
      "metadata": {
        "id": "IVY2Ocn26tmE"
      },
      "source": [
        ""
      ],
      "execution_count": null,
      "outputs": []
    },
    {
      "cell_type": "code",
      "metadata": {
        "colab": {
          "base_uri": "https://localhost:8080/"
        },
        "id": "Fq15lV3u0uUZ",
        "outputId": "24398ae4-e093-4b82-9a0c-cf25c4ac5544"
      },
      "source": [
        "s = input(\"\")\n",
        "s_dict = {}\n",
        "\n",
        "for i in s :\n",
        "  if i in s_dict :\n",
        "    s_dict[i] +=1\n",
        "  else :\n",
        "    s_dict[i] = 1\n",
        "\n",
        "print(s_dict)\n",
        "#print(len(set(s_dict.values())) == 1)"
      ],
      "execution_count": null,
      "outputs": [
        {
          "output_type": "stream",
          "name": "stdout",
          "text": [
            "abcabcabccbc\n",
            "{'a': 3, 'b': 4, 'c': 5}\n"
          ]
        }
      ]
    },
    {
      "cell_type": "code",
      "metadata": {
        "id": "l9M_wpIG6uQk"
      },
      "source": [
        "s = \"I like apples but I don't like bananas.\"\n",
        "liste = s.split()\n",
        "\n",
        "d = {}\n",
        "\n",
        "for i in liste:\n",
        "  if i in d:\n",
        "    d[i] += 1\n",
        "  else:\n",
        "    d[i] = 1\n",
        "d\n"
      ],
      "execution_count": null,
      "outputs": []
    },
    {
      "cell_type": "code",
      "metadata": {
        "colab": {
          "base_uri": "https://localhost:8080/"
        },
        "id": "VmHDD_iXVw-k",
        "outputId": "39f28fea-a293-45f2-a071-6a96b94a523b"
      },
      "source": [
        "words = input('Enter a text: ').split()\n",
        "\n",
        "result = []\n",
        "for i in words:\n",
        "  if len(i) >= 5:\n",
        "    result.append(i[::-1])\n",
        "  else:\n",
        "    result.append(i)\n",
        "\n",
        "print(' '.join(result))"
      ],
      "execution_count": null,
      "outputs": [
        {
          "output_type": "stream",
          "name": "stdout",
          "text": [
            "Enter a text: This is another test\n",
            "This is rehtona test\n"
          ]
        }
      ]
    },
    {
      "cell_type": "code",
      "metadata": {
        "colab": {
          "base_uri": "https://localhost:8080/"
        },
        "id": "q9UQPht8ZdFl",
        "outputId": "7d1c13de-e4dc-425f-dacc-cee3152d9d6c"
      },
      "source": [
        "alphabet = 'abcdefghijklmnopqrstuyvwxyz'\n",
        "s = input('Enter a sentence: ').lower()\n",
        "\n",
        "new_s = ''\n",
        "for i in s:\n",
        "  if i.isalpha():\n",
        "    new_s += i\n",
        "\n",
        "print(set(alphabet) == set(new_s))\n"
      ],
      "execution_count": null,
      "outputs": [
        {
          "output_type": "stream",
          "name": "stdout",
          "text": [
            "Enter a sentence: The quick brown fox jumps over the lazy dog\n",
            "True\n"
          ]
        }
      ]
    },
    {
      "cell_type": "code",
      "metadata": {
        "id": "VLbhCPx1ck2Q"
      },
      "source": [
        ""
      ],
      "execution_count": null,
      "outputs": []
    },
    {
      "cell_type": "code",
      "metadata": {
        "id": "aA1w3N0rclF-"
      },
      "source": [
        "n = int(input('Enter a number: '))\n",
        "\n",
        "if n == 0:\n",
        "  print(False)\n",
        "else:\n",
        "  while n % 2 == 0:\n",
        "    n /= 2\n",
        "  if n == 1:\n",
        "    print(True)\n",
        "  else: \n",
        "    print(False)\n",
        "  "
      ],
      "execution_count": null,
      "outputs": []
    },
    {
      "cell_type": "code",
      "metadata": {
        "id": "dRXZgs50Nixz"
      },
      "source": [
        "d = { \"z\": \"q\", \"w\": \"f\" }\n",
        "\n",
        "result = {}\n",
        "for i in d.keys():\n",
        "  result[d.get(i)] = i\n",
        "\n",
        "print(result)\n"
      ],
      "execution_count": null,
      "outputs": []
    },
    {
      "cell_type": "code",
      "metadata": {
        "id": "tVu3GOlNaBlg"
      },
      "source": [
        "dict1 = { “zebra”: “koala”, “horse”: “camel” }\n",
        "inverted_dict = dict(map(reversed, dict1.items()))\n",
        "inverted_dict"
      ],
      "execution_count": null,
      "outputs": []
    },
    {
      "cell_type": "code",
      "metadata": {
        "id": "Ypn35YmghBYV"
      },
      "source": [
        ""
      ],
      "execution_count": null,
      "outputs": []
    },
    {
      "cell_type": "code",
      "metadata": {
        "colab": {
          "base_uri": "https://localhost:8080/"
        },
        "id": "WroPDs74hB-Z",
        "outputId": "4321dfa1-fb27-4f07-cadf-8cb2e29d06fc"
      },
      "source": [
        "l = [1,2,3,1,2,1,2,3]\n",
        "n = 2\n",
        "new_l = []\n",
        "\n",
        "for i in l:\n",
        "  if new_l.count(i)<n:\n",
        "    new_l.append(i)\n",
        "\n",
        "print(new_l)"
      ],
      "execution_count": null,
      "outputs": [
        {
          "output_type": "stream",
          "name": "stdout",
          "text": [
            "[1, 2, 3, 1, 2, 3]\n"
          ]
        }
      ]
    },
    {
      "cell_type": "code",
      "metadata": {
        "colab": {
          "base_uri": "https://localhost:8080/"
        },
        "id": "NlApANcQsvcP",
        "outputId": "6a37f49a-806e-42dd-ae19-b8a5f5f4615a"
      },
      "source": [
        "numbers = [ 1, 1, 1, 2, 1, 1 ]\n",
        "a = sorted(numbers)\n",
        "a"
      ],
      "execution_count": null,
      "outputs": [
        {
          "output_type": "execute_result",
          "data": {
            "text/plain": [
              "[1, 1, 1, 1, 1, 2]"
            ]
          },
          "metadata": {},
          "execution_count": 39
        }
      ]
    },
    {
      "cell_type": "code",
      "metadata": {
        "colab": {
          "base_uri": "https://localhost:8080/"
        },
        "id": "E1dQmj1ZvQBt",
        "outputId": "a87b56a7-d89b-42df-a033-5755c6f593f6"
      },
      "source": [
        "numbers = [ 1, 1, 1, 2, 1, 1 ]\n",
        "\n",
        "for i in set(numbers):\n",
        "  if numbers.count(i) == 1:\n",
        "    print(f'The unique number is {i}')\n"
      ],
      "execution_count": null,
      "outputs": [
        {
          "output_type": "stream",
          "name": "stdout",
          "text": [
            "The unique number is 2\n"
          ]
        }
      ]
    },
    {
      "cell_type": "code",
      "metadata": {
        "id": "IsdqNHLVCDzE"
      },
      "source": [
        "a, b, c = input(\"Enter three string\").split()\n"
      ],
      "execution_count": null,
      "outputs": []
    },
    {
      "cell_type": "code",
      "metadata": {
        "colab": {
          "base_uri": "https://localhost:8080/"
        },
        "id": "dAPqRS8dDakW",
        "outputId": "659f397e-895d-4bef-ccc7-e32e8533182f"
      },
      "source": [
        "#82\n",
        "\n",
        "n = int(input('Enter a number: '))\n",
        "seq = []  \n",
        "while n>1:\n",
        "  if n%2 == 0:\n",
        "    n = n//2\n",
        "    seq.append(n)\n",
        "  else:\n",
        "    n = (n*3)+1\n",
        "    seq.append(n)\n",
        "\n",
        "print(seq)\n",
        "print(max(seq))"
      ],
      "execution_count": null,
      "outputs": [
        {
          "output_type": "stream",
          "name": "stdout",
          "text": [
            "Enter a number: 12\n",
            "[6, 3, 10, 5, 16, 8, 4, 2, 1]\n",
            "16\n"
          ]
        }
      ]
    },
    {
      "cell_type": "code",
      "metadata": {
        "colab": {
          "base_uri": "https://localhost:8080/"
        },
        "id": "StKkivXs21gp",
        "outputId": "f330638f-0417-45a9-b0f9-17b5daa635d4"
      },
      "source": [
        "s = input('Enter a sentence: ').split()\n",
        "result = []\n",
        "\n",
        "for word in s:\n",
        "  if word.isalpha():\n",
        "    word = word[1::] + word[0] + 'ay'\n",
        "    result.append(word)\n",
        "  else:\n",
        "    result.append(word)\n",
        "\n",
        "print(' '.join(result))"
      ],
      "execution_count": null,
      "outputs": [
        {
          "output_type": "stream",
          "name": "stdout",
          "text": [
            "Enter a sentence: Hi ! How are you ?\n",
            "iHay ! owHay reaay ouyay ?\n"
          ]
        }
      ]
    },
    {
      "cell_type": "code",
      "metadata": {
        "id": "fZnDjh4bHAEE"
      },
      "source": [
        ""
      ],
      "execution_count": null,
      "outputs": []
    },
    {
      "cell_type": "code",
      "metadata": {
        "id": "eBVBhrHifUHh"
      },
      "source": [
        ""
      ],
      "execution_count": null,
      "outputs": []
    },
    {
      "cell_type": "code",
      "metadata": {
        "colab": {
          "base_uri": "https://localhost:8080/"
        },
        "id": "zRwtdUfg8GE3",
        "outputId": "36a1a281-0956-4ee5-dfed-9331ab03c042"
      },
      "source": [
        "letters = {'A':'N', 'B':'O', 'C':'P', 'D':'Q', 'E':'R', 'F':'S', 'G':'T', 'H':'U', 'I':'V', \n",
        "           'J':'W', 'K':'X', 'L':'Y', 'M':'Z', 'N':'A', 'O':'B', 'P':'C', 'Q':'D', 'R':'E',\n",
        "           'S':'F', 'T':'G', 'U':'H', 'V':'I', 'W':'J', 'X':'K', 'Y':'L', 'Z':'M'}\n",
        "\n",
        "word = input('')\n",
        "rot13 = []\n",
        "\n",
        "for i in word:\n",
        "  if not i.isalpha():\n",
        "    rot13.append(i)\n",
        "  elif i.isupper():\n",
        "    rot13.append(letters[i])\n",
        "  else:\n",
        "    rot13.append(letters[i.upper()].lower())\n",
        "\n",
        "print(''.join(rot13))"
      ],
      "execution_count": null,
      "outputs": [
        {
          "output_type": "stream",
          "name": "stdout",
          "text": [
            "Tes12t\n",
            "Grf12g\n"
          ]
        }
      ]
    },
    {
      "cell_type": "code",
      "metadata": {
        "colab": {
          "base_uri": "https://localhost:8080/"
        },
        "id": "bZVkTqesfU_f",
        "outputId": "df0dcc50-27b2-4c66-8f04-85832ae3c036"
      },
      "source": [
        "a = [('b', 1), ('c', 2), ('x', 3), ('x', 4), ('z', 0)]\n",
        "\n",
        "d = {}\n",
        "n = 0\n",
        "for i in a:\n",
        "    d[a[n][-1]] = i\n",
        "    n+=1\n",
        "\n",
        "result = []\n",
        "for j in sorted(d):\n",
        "  result.append(d[j])\n",
        "\n",
        "print(result)"
      ],
      "execution_count": null,
      "outputs": [
        {
          "output_type": "stream",
          "name": "stdout",
          "text": [
            "[('z', 0), ('b', 1), ('c', 2), ('x', 3), ('x', 4)]\n"
          ]
        }
      ]
    },
    {
      "cell_type": "code",
      "metadata": {
        "colab": {
          "base_uri": "https://localhost:8080/"
        },
        "id": "xpVJxMFZ2Wms",
        "outputId": "bca85da7-32a1-49d2-c45c-d04d41457387"
      },
      "source": [
        "m = int(input(''))\n",
        "n = 0\n",
        "total = 0\n",
        "\n",
        "while total < m:\n",
        "  n += 1\n",
        "  total += n**3\n",
        "\n",
        "if total == m:\n",
        "  print(f'm = {m} \\nn = {n}')\n",
        "else:\n",
        "  print(None)"
      ],
      "execution_count": null,
      "outputs": [
        {
          "output_type": "stream",
          "name": "stdout",
          "text": [
            "4183059834009\n",
            "m = 4183059834009 \n",
            "n = 2022\n"
          ]
        }
      ]
    },
    {
      "cell_type": "code",
      "metadata": {
        "colab": {
          "base_uri": "https://localhost:8080/"
        },
        "id": "FZLaSP6P5rmT",
        "outputId": "4b0d075e-e6b6-40af-f9fb-644e8a8858dc"
      },
      "source": [
        "minors = ['a', 'an', 'the', 'in', 'on', 'at', 'of', 'from', 'and', \n",
        "          'or', 'nor', 'but', 'as', 'by', 'for', 'to', 'per']\n",
        "\n",
        "sentence = input('').lower().split()\n",
        "result = []\n",
        "minor_words = []\n",
        "\n",
        "for word in sentence:\n",
        "  if word in minors:\n",
        "   result.append(word)\n",
        "   minor_words.append(word)\n",
        "  else:\n",
        "    result.append(word.capitalize())\n",
        "\n",
        "result[0] = result[0].capitalize()\n",
        "\n",
        "print(' '.join(result))\n",
        "print(' '.join(minor_words))"
      ],
      "execution_count": null,
      "outputs": [
        {
          "output_type": "stream",
          "name": "stdout",
          "text": [
            "THE WIND IN THE WILLOWS\n",
            "The Wind in the Willows\n",
            "the in the\n"
          ]
        }
      ]
    },
    {
      "cell_type": "code",
      "metadata": {
        "id": "_i1IAluq-x-7"
      },
      "source": [
        ""
      ],
      "execution_count": null,
      "outputs": []
    },
    {
      "cell_type": "code",
      "metadata": {
        "id": "-V4Nqrq7sSP5"
      },
      "source": [
        "s = input('')\n",
        "d = {}\n",
        "for i in s:\n",
        "  if i not in d:\n",
        "    d[i] = 1\n",
        "  else:\n",
        "    d[i] += 1\n",
        "\n",
        "n = 0\n",
        "for j in d.values():\n",
        "  if j > 1:\n",
        "    n+=1\n",
        "\n",
        "if n <= 1:\n",
        "  print('YES')\n",
        "else:\n",
        "  print('NO')\n",
        "\n",
        "  "
      ],
      "execution_count": null,
      "outputs": []
    },
    {
      "cell_type": "code",
      "metadata": {
        "id": "1XTP51Pv2cWR"
      },
      "source": [
        ""
      ],
      "execution_count": null,
      "outputs": []
    },
    {
      "cell_type": "code",
      "metadata": {
        "colab": {
          "base_uri": "https://localhost:8080/"
        },
        "id": "WuGwvOEc0xAq",
        "outputId": "e4cab823-fc49-4a66-f4ec-c422da161e6f"
      },
      "source": [
        "a = [1, 0, 1, 2, 0, 1, 3]\n",
        "result = []\n",
        "n = 0\n",
        "\n",
        "for i in a:\n",
        "  if i > 0:\n",
        "    result.insert(n, i)\n",
        "    n += 1\n",
        "  else:\n",
        "    result.append(i)\n",
        "\n",
        "print(result) "
      ],
      "execution_count": null,
      "outputs": [
        {
          "output_type": "stream",
          "name": "stdout",
          "text": [
            "[1, 1, 2, 1, 3, 0, 0]\n"
          ]
        }
      ]
    },
    {
      "cell_type": "code",
      "metadata": {
        "id": "MiBoKBV02c_E"
      },
      "source": [
        "s1 = \"and\"\n",
        "s2 = \"art\"\n",
        "n = 0\n",
        "\n",
        "for i in s1:\n",
        "  if i in s2:\n",
        "    n+=1\n",
        "\n",
        "if n > 0:\n",
        "  print('YES')\n",
        "else:\n",
        "  print('NO')"
      ],
      "execution_count": null,
      "outputs": []
    },
    {
      "cell_type": "code",
      "metadata": {
        "id": "_Falt0UimsS8"
      },
      "source": [
        ""
      ],
      "execution_count": null,
      "outputs": []
    },
    {
      "cell_type": "code",
      "metadata": {
        "colab": {
          "base_uri": "https://localhost:8080/"
        },
        "id": "ys1oJFzl32uG",
        "outputId": "8358131b-a48b-44b7-cfb9-906a4ca4aea6"
      },
      "source": [
        "num = int(input('Enter a number: '))\n",
        "result = []\n",
        "n = 0\n",
        "\n",
        "for i in range(num):\n",
        "  if i == 0 or i == 1:\n",
        "    result.append(i)\n",
        "  else:\n",
        "    result.append(result[n] + result[n+1])\n",
        "    n+=1\n",
        "\n",
        "print(result)"
      ],
      "execution_count": null,
      "outputs": [
        {
          "output_type": "stream",
          "name": "stdout",
          "text": [
            "Enter a number: 7\n",
            "[0, 1, 1, 2, 3, 5, 8]\n"
          ]
        }
      ]
    },
    {
      "cell_type": "code",
      "metadata": {
        "colab": {
          "base_uri": "https://localhost:8080/"
        },
        "id": "1kJtwuSnmtg2",
        "outputId": "dd0b2f33-6cf9-4d05-dbc5-9af6b927e270"
      },
      "source": [
        "dictionary = {}\n",
        "\n",
        "if dictionary:\n",
        "  print('dictionary is not empty')\n",
        "else:\n",
        "  print('dictionary is empty')"
      ],
      "execution_count": null,
      "outputs": [
        {
          "output_type": "stream",
          "name": "stdout",
          "text": [
            "dictionary is empty\n"
          ]
        }
      ]
    },
    {
      "cell_type": "code",
      "metadata": {
        "id": "mnfnQFS0ZZM-"
      },
      "source": [
        "a = [6, 3, -2, 5, -8, 2, -2]\n",
        "pozitives = []\n",
        "result = []\n",
        "n = 0\n",
        "\n",
        "if a:\n",
        "  for i in a:\n",
        "    if i > 0:\n",
        "      pozitives.append(i)\n",
        "      \n",
        "  for j in a:\n",
        "    if j < 0:\n",
        "     result.append(j)\n",
        "    if j > 0:\n",
        "      result.append(sorted(pozitives)[n])\n",
        "      n += 1\n",
        "print(result)"
      ],
      "execution_count": null,
      "outputs": []
    },
    {
      "cell_type": "code",
      "metadata": {
        "id": "geD1JIZeFe6i"
      },
      "source": [
        "#100 recipe\n",
        "\n",
        "recipe = {'flour': 500, 'sugar': 200, 'eggs': 1} \n",
        "ingredients = {'flour': 1200, 'sugar': 1200, 'eggs': 5, 'milk': 200}\n",
        "result = {}\n",
        "\n",
        "for i in ingredients.keys():\n",
        "  if i in recipe.keys():\n",
        "    result[i] = ingredients[i]//recipe[i]\n",
        "\n",
        "print(min(result.values()))"
      ],
      "execution_count": null,
      "outputs": []
    },
    {
      "cell_type": "code",
      "metadata": {
        "colab": {
          "base_uri": "https://localhost:8080/"
        },
        "id": "HzVVNmkMNjaA",
        "outputId": "5b5acdc8-757d-4819-f6c2-56123bc79f8b"
      },
      "source": [
        "a = [3, 13, 11, 2, 1, 9, 5]\n",
        "result = []\n",
        "\n",
        "for i in a:\n",
        "  if i > max(a[a.index(i)::]):\n",
        "    result.append(i)\n",
        "\n",
        "result"
      ],
      "execution_count": null,
      "outputs": [
        {
          "output_type": "execute_result",
          "data": {
            "text/plain": [
              "[]"
            ]
          },
          "metadata": {},
          "execution_count": 21
        }
      ]
    },
    {
      "cell_type": "code",
      "metadata": {
        "colab": {
          "base_uri": "https://localhost:8080/"
        },
        "id": "bE0LCqnfR-CE",
        "outputId": "c41ce782-dd4c-4dbf-d3a8-80226060520e"
      },
      "source": [
        "a = [5, 5, 5, 5, 5, 5]\n",
        "result = []\n",
        "\n",
        "if len(a) == a.count(a[0]):\n",
        "  print(a[-2:-1])\n",
        "\n",
        "else: \n",
        "  for i in a:\n",
        "    if i >= max(a[a.index(i)::]):\n",
        "      result.append(i)\n",
        "\n",
        "  print(result)"
      ],
      "execution_count": null,
      "outputs": [
        {
          "output_type": "stream",
          "name": "stdout",
          "text": [
            "[5]\n"
          ]
        }
      ]
    },
    {
      "cell_type": "code",
      "metadata": {
        "id": "boS1Gn7vaIoo"
      },
      "source": [
        "age =  input('Are you a cigarette addict older than 75 years old? Yes or No? ').lower()\n",
        "chronic =  input('Do you have a severe chronic disease? Yes or No? ').lower()\n",
        "immune = input('Is your immune system too weak? Yes or No? ').lower()\n",
        "\n",
        "if (age == 'yes') or (chronic == 'yes') or (immune == 'yes'):\n",
        "  print('You are in risky group.')\n",
        "elif (age == 'no') and (chronic == 'no') and (immune == 'no'):\n",
        "  print('You are not in risky group.')\n",
        "else: \n",
        "  print('Try again!')"
      ],
      "execution_count": null,
      "outputs": []
    },
    {
      "cell_type": "code",
      "metadata": {
        "id": "5zSns_mx0ibe"
      },
      "source": [
        ""
      ],
      "execution_count": null,
      "outputs": []
    },
    {
      "cell_type": "code",
      "metadata": {
        "colab": {
          "base_uri": "https://localhost:8080/"
        },
        "id": "yLKjms6mHBc-",
        "outputId": "4e3154df-a99b-4e70-f4b5-fc3a87c5e670"
      },
      "source": [
        "a = [\"cow\", \"pig\", \"cow\", \"cow\"] \n",
        "s = set()\n",
        "\n",
        "for i in set(a):\n",
        "  if a.count(i) == 1:\n",
        "    s.add(i)\n",
        "  else:\n",
        "    s.add(i+'s')\n",
        "print(s)"
      ],
      "execution_count": 6,
      "outputs": [
        {
          "output_type": "stream",
          "name": "stdout",
          "text": [
            "{'cows', 'pig'}\n"
          ]
        }
      ]
    },
    {
      "cell_type": "code",
      "metadata": {
        "id": "7ZS8gnBLrhSK"
      },
      "source": [
        "s = \"hello\"\n",
        "vowels = []\n",
        "result = ''\n",
        "n = 0\n",
        "\n",
        "for i in s[::-1]:\n",
        "  if i.lower() in 'aeuoi':\n",
        "    vowels.append(i)\n",
        "\n",
        "for j in s:\n",
        "  if j.lower() not in 'aeuoi':\n",
        "    result += j\n",
        "  else: \n",
        "    result += vowels[n]\n",
        "    n += 1\n",
        "\n",
        "print(result)"
      ],
      "execution_count": null,
      "outputs": []
    },
    {
      "cell_type": "code",
      "metadata": {
        "colab": {
          "base_uri": "https://localhost:8080/"
        },
        "id": "ndXuC15Xulxx",
        "outputId": "a1deb8df-bfc9-40f2-9192-7140fc2062cc"
      },
      "source": [
        "a, b, c = map(int, input('Enter 3 numbers: ').split())\n",
        "sum = a+b+c\n",
        "\n",
        "if a == b == c:\n",
        "  print(sum*3)\n",
        "else:\n",
        "  print(sum)"
      ],
      "execution_count": 20,
      "outputs": [
        {
          "output_type": "stream",
          "name": "stdout",
          "text": [
            "Enter 3 numbers: 5 5 5\n",
            "45\n"
          ]
        }
      ]
    },
    {
      "cell_type": "code",
      "metadata": {
        "colab": {
          "base_uri": "https://localhost:8080/"
        },
        "id": "GG5Pwo6Z0jRx",
        "outputId": "aa6b74cd-6b9e-48f5-fd47-8851bea15c16"
      },
      "source": [
        "s = ''\n",
        "for i in range(1, 1001):\n",
        "  s += str(i)\n",
        "\n",
        "print(len(s)//3)"
      ],
      "execution_count": 5,
      "outputs": [
        {
          "output_type": "stream",
          "name": "stdout",
          "text": [
            "964\n"
          ]
        }
      ]
    },
    {
      "cell_type": "code",
      "metadata": {
        "colab": {
          "base_uri": "https://localhost:8080/"
        },
        "id": "_QViwRsXeQpR",
        "outputId": "5385a544-3cef-4e47-e630-bd7051dec86c"
      },
      "source": [
        "s = 'google.com'\n",
        "d = {}\n",
        "\n",
        "for i in s:\n",
        "  if i.isalpha():\n",
        "    if i not in d:\n",
        "      d[i] = 1\n",
        "    else:\n",
        "      d[i] += 1\n",
        "print(d)"
      ],
      "execution_count": 8,
      "outputs": [
        {
          "output_type": "stream",
          "name": "stdout",
          "text": [
            "{'g': 2, 'o': 3, 'l': 1, 'e': 1, 'c': 1, 'm': 1}\n"
          ]
        }
      ]
    },
    {
      "cell_type": "code",
      "metadata": {
        "id": "UNxDimtLAdu0"
      },
      "source": [
        ""
      ],
      "execution_count": null,
      "outputs": []
    },
    {
      "cell_type": "code",
      "metadata": {
        "colab": {
          "base_uri": "https://localhost:8080/"
        },
        "id": "kcjztk8m8UET",
        "outputId": "e13c297f-aa59-40d7-c48d-bc84a555fcb6"
      },
      "source": [
        "moves = input('').upper()\n",
        "d = {'L':0, 'R':0, 'U':0, 'D':0}\n",
        "\n",
        "for i in moves:\n",
        "  if i in d:\n",
        "    d[i] += 1\n",
        "\n",
        "if d['L'] == d['R'] and d['U'] == d['D']:\n",
        "  print(True)\n",
        "else:\n",
        "  print(False)"
      ],
      "execution_count": 13,
      "outputs": [
        {
          "output_type": "stream",
          "name": "stdout",
          "text": [
            "RLUDRLUD\n",
            "True\n"
          ]
        }
      ]
    },
    {
      "cell_type": "code",
      "metadata": {
        "colab": {
          "base_uri": "https://localhost:8080/"
        },
        "id": "TaVDPukazj2R",
        "outputId": "59850df5-9d5d-4e19-9ead-f02979f2b0b6"
      },
      "source": [
        "a = [1, 2, 3]\n",
        "b = [4, 5, 6]\n",
        "c = []\n",
        "\n",
        "for i in range(len(a)):\n",
        "  x = abs(a[i]-b[i])\n",
        "  c.append(x**2)\n",
        "\n",
        "print(sum(c)/len(c))"
      ],
      "execution_count": 5,
      "outputs": [
        {
          "output_type": "stream",
          "name": "stdout",
          "text": [
            "9.0\n"
          ]
        }
      ]
    },
    {
      "cell_type": "code",
      "metadata": {
        "colab": {
          "base_uri": "https://localhost:8080/"
        },
        "id": "cXtKJil49A27",
        "outputId": "06841c67-e7f7-49f3-acd5-7db18524c681"
      },
      "source": [
        "a1 = [\"arp\", \"live\", \"strong\"]\n",
        "a2 = [\"lively\", \"alive\", \"harp\", \"sharp\", \"armstrong\"]\n",
        "result = []\n",
        "\n",
        "for i in a1:\n",
        "  for j in a2:\n",
        "    if i in j:\n",
        "      result.append(i)\n",
        "      break\n",
        "\n",
        "print(result)"
      ],
      "execution_count": 9,
      "outputs": [
        {
          "output_type": "stream",
          "name": "stdout",
          "text": [
            "['arp', 'live', 'strong']\n"
          ]
        }
      ]
    },
    {
      "cell_type": "code",
      "metadata": {
        "colab": {
          "base_uri": "https://localhost:8080/"
        },
        "id": "hZGUNr0utCzM",
        "outputId": "07d6f4da-759e-4197-f49a-1da84f596553"
      },
      "source": [
        "course = 'clarusway'\n",
        "print(*course, sep='-')"
      ],
      "execution_count": 42,
      "outputs": [
        {
          "output_type": "stream",
          "name": "stdout",
          "text": [
            "c-l-a-r-u-s-w-a-y\n"
          ]
        }
      ]
    },
    {
      "cell_type": "code",
      "metadata": {
        "id": "Z8JHl6s0_cIo"
      },
      "source": [
        ""
      ],
      "execution_count": null,
      "outputs": []
    },
    {
      "cell_type": "code",
      "metadata": {
        "colab": {
          "base_uri": "https://localhost:8080/"
        },
        "id": "SQpGb40xxkpF",
        "outputId": "1fdc8349-1483-4a21-a5d2-466a416b2010"
      },
      "source": [
        "alice = [2]\n",
        "bob = [1,3]\n",
        "\n",
        "a = sum(alice)\n",
        "b = sum(bob)\n",
        "\n",
        "if a > b:\n",
        "  more = alice\n",
        "  less = bob\n",
        "else:\n",
        "  more = bob\n",
        "  less = alice\n",
        "\n",
        "exchange = abs(a-b)//2\n",
        "print(more)\n",
        "print(less)\n",
        "\n",
        "for i in more:\n",
        "  for j in less:\n",
        "    print(i-j)\n",
        "    if (i-j) == exchange:\n",
        "      print(i-j == exchange)\n",
        "      result = [i, j]\n",
        "      print(result)\n",
        "      break\n",
        "  break\n"
      ],
      "execution_count": 9,
      "outputs": [
        {
          "output_type": "stream",
          "name": "stdout",
          "text": [
            "[1, 3]\n",
            "[2]\n",
            "-1\n"
          ]
        }
      ]
    },
    {
      "cell_type": "code",
      "metadata": {
        "id": "NLm8UcPP6Ut4"
      },
      "source": [
        "if more == alice:\n",
        "        print(result)\n",
        "      else:\n",
        "        print(result[::-1])"
      ],
      "execution_count": null,
      "outputs": []
    },
    {
      "cell_type": "code",
      "metadata": {
        "id": "fhubjprNdnzi"
      },
      "source": [
        "alice = [1,2,5]\n",
        "bob = [2,4]\n",
        "\n",
        "a = sum(alice)\n",
        "b = sum(bob)\n",
        "exchange = abs(a-b)//2\n",
        "\n",
        "if a > b:\n",
        "  for i in alice:\n",
        "    for j in bob:\n",
        "      if i-j == exchange:\n",
        "        result = [i,j]\n",
        "        print(result)\n",
        "        break\n",
        "else:\n",
        "  for i in bob:\n",
        "    for j in alice:\n",
        "      if i-j == exchange:\n",
        "        result = [j,i]\n",
        "        print(result)\n",
        "        break  "
      ],
      "execution_count": null,
      "outputs": []
    },
    {
      "cell_type": "code",
      "metadata": {
        "id": "dV3yuQ6ehpXd"
      },
      "source": [
        "a = [4,1,2,1,2]\n",
        "d = {}\n",
        "\n",
        "for i in a:\n",
        "  if i not in d:\n",
        "    d[i] = 1\n",
        "  else:\n",
        "    del d[i]\n",
        "\n",
        "print(*d.keys())"
      ],
      "execution_count": null,
      "outputs": []
    },
    {
      "cell_type": "code",
      "metadata": {
        "id": "X3jvJHCBqgZU"
      },
      "source": [
        "lis = [\"toe\", \"ocelot\", \"maniac\"]\n",
        "d = dict(lis)\n",
        "d"
      ],
      "execution_count": null,
      "outputs": []
    },
    {
      "cell_type": "code",
      "metadata": {
        "colab": {
          "base_uri": "https://localhost:8080/"
        },
        "id": "0H8kwyK6pUWy",
        "outputId": "e6d3d8cd-8b10-4604-e2c3-73fa69fcaabc"
      },
      "source": [
        "lis = [\"hoops\", \"chuff\", \"bot\", \"bottom\"]\n",
        "d = {}\n",
        "result = []\n",
        "\n",
        "for i in lis:\n",
        "  d[i] = ''\n",
        "  for j in i:\n",
        "    if j in 'aeiou':\n",
        "      d[i] += j\n",
        "   \n",
        "for k in d.keys():\n",
        "  if set(d[k]) == set(d[lis[0]]):\n",
        "    result.append(k)\n",
        "\n",
        "print(result)\n",
        "    "
      ],
      "execution_count": 25,
      "outputs": [
        {
          "output_type": "stream",
          "name": "stdout",
          "text": [
            "['hoops', 'bot', 'bottom']\n"
          ]
        }
      ]
    },
    {
      "cell_type": "code",
      "metadata": {
        "colab": {
          "base_uri": "https://localhost:8080/"
        },
        "id": "tY3yr5tDwghA",
        "outputId": "5793cf57-2c47-4423-a92a-b8a50b5ca1f3"
      },
      "source": [
        "edges = [[1,2],[2,3],[4,2]]\n",
        "\n",
        "a = set(edges[0]).intersection(set(edges[1]), set(edges[2]))\n",
        "\n",
        "print(*a)"
      ],
      "execution_count": 28,
      "outputs": [
        {
          "output_type": "stream",
          "name": "stdout",
          "text": [
            "2\n"
          ]
        }
      ]
    },
    {
      "cell_type": "code",
      "metadata": {
        "colab": {
          "base_uri": "https://localhost:8080/"
        },
        "id": "QmqzkL7Mx01a",
        "outputId": "1af87540-e592-482d-fc65-e538dae42727"
      },
      "source": [
        "lis = [\"hoops\", \"chuff\", \"bot\", \"bottom\"]\n",
        "d = {}\n",
        "result = []\n",
        "\n",
        "for i in lis:\n",
        "  d[i] = ''\n",
        "  for j in set(i):\n",
        "    if j in 'aeiou':\n",
        "      d[i] += j\n",
        "   \n",
        "for k in d.keys():\n",
        "  if d[k] == d[lis[0]]:\n",
        "    result.append(k)\n",
        "\n",
        "print(result)"
      ],
      "execution_count": 31,
      "outputs": [
        {
          "output_type": "stream",
          "name": "stdout",
          "text": [
            "['hoops', 'bot', 'bottom']\n"
          ]
        }
      ]
    },
    {
      "cell_type": "code",
      "metadata": {
        "id": "45UKC6o-AZtF"
      },
      "source": [
        ""
      ],
      "execution_count": null,
      "outputs": []
    }
  ]
}